{
  "cells": [
    {
      "cell_type": "markdown",
      "metadata": {
        "colab_type": "text",
        "id": "view-in-github"
      },
      "source": [
        "<a href=\"https://colab.research.google.com/github/githubashmit/Week4-Python-CipherSchools/blob/main/class22_File_handling_CipherSchools.ipynb\" target=\"_parent\"><img src=\"https://colab.research.google.com/assets/colab-badge.svg\" alt=\"Open In Colab\"/></a>"
      ]
    },
    {
      "cell_type": "code",
      "execution_count": 5,
      "metadata": {
        "colab": {
          "base_uri": "https://localhost:8080/"
        },
        "id": "pHQhIEQMZ3VW",
        "outputId": "d893e0a5-8e15-4c29-9913-8a72f79f1330"
      },
      "outputs": [
        {
          "name": "stdout",
          "output_type": "stream",
          "text": [
            "Entered\n",
            "1\n",
            "inside context\n",
            "Excited\n",
            "(<class 'Exception'>, Exception(), <traceback object at 0x7fd8968f78c0>)\n",
            "outside context\n"
          ]
        }
      ],
      "source": [
        "class A:\n",
        "    def __enter__(self):\n",
        "        print(\"Entered\")\n",
        "        return 1\n",
        "    def __exit__(self,*args):\n",
        "        print(\"Excited\")\n",
        "        print(args)\n",
        "        return True\n",
        "with A() as x:\n",
        "    print(x)\n",
        "    print(\"inside context\")\n",
        "    raise Exception\n",
        "print(\"outside context\")"
      ]
    },
    {
      "cell_type": "code",
      "execution_count": null,
      "metadata": {
        "id": "8a2UwwBxlMEA"
      },
      "outputs": [],
      "source": [
        "# <html>\n",
        "#   <body>\n",
        "#     Hello world\n",
        "#   </body>\n",
        "# </html>"
      ]
    },
    {
      "cell_type": "code",
      "execution_count": 6,
      "metadata": {
        "colab": {
          "base_uri": "https://localhost:8080/",
          "height": 36
        },
        "id": "dxQSLCDwlgng",
        "outputId": "a728a463-b890-4d4c-b5d2-43295433fbb4"
      },
      "outputs": [
        {
          "data": {
            "application/vnd.google.colaboratory.intrinsic+json": {
              "type": "string"
            },
            "text/plain": [
              "'{\\n  \"html\":{\\n    \"body\":\"Hello World\"\\n  }\\n}'"
            ]
          },
          "execution_count": 6,
          "metadata": {},
          "output_type": "execute_result"
        }
      ],
      "source": [
        "'''{\n",
        "  \"html\":{\n",
        "    \"body\":\"Hello World\"\n",
        "  }\n",
        "}'''"
      ]
    },
    {
      "cell_type": "code",
      "execution_count": 8,
      "metadata": {
        "id": "Md2m3vx_unop"
      },
      "outputs": [],
      "source": [
        "# JASON RULE\n",
        "# -keys can only be strings and numbers\n",
        "# -values can only be arrays,json,strings,numbers,boolean,null"
      ]
    },
    {
      "cell_type": "code",
      "execution_count": 17,
      "metadata": {
        "colab": {
          "base_uri": "https://localhost:8080/"
        },
        "id": "GdHJgU_vvET_",
        "outputId": "06bcfa07-5675-44d6-d87e-09840e70be05"
      },
      "outputs": [
        {
          "name": "stdout",
          "output_type": "stream",
          "text": [
            "{\"name\": \"Jatin Katyal\", \"marks\": 100, \"language\": [\"C++\", \"Python\", \"go\", \"rust\"]}\n"
          ]
        }
      ],
      "source": [
        "a={\n",
        "    \"name\":\"Jatin Katyal\",\n",
        "   \"marks\":100,\n",
        "   \"language\":[\n",
        "       \"C++\",\n",
        "       \"Python\",\n",
        "       \"go\",\n",
        "       \"rust\"\n",
        "   ]\n",
        "}\n",
        "import json\n",
        "s=json.dumps(a)\n",
        "type(s)\n",
        "print(s)"
      ]
    }
  ],
  "metadata": {
    "colab": {
      "authorship_tag": "ABX9TyNOM9dBZkzl7+7QpGMR3eHc",
      "include_colab_link": true,
      "provenance": []
    },
    "gpuClass": "standard",
    "kernelspec": {
      "display_name": "Python 3",
      "name": "python3"
    },
    "language_info": {
      "name": "python"
    }
  },
  "nbformat": 4,
  "nbformat_minor": 0
}
